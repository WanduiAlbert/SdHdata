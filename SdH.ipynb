{
 "cells": [
  {
   "cell_type": "code",
   "execution_count": 2,
   "metadata": {
    "collapsed": true
   },
   "outputs": [],
   "source": [
    "import numpy as np\n",
    "import matplotlib.pyplot as plt\n",
    "% matplotlib inline\n",
    "import glob"
   ]
  },
  {
   "cell_type": "code",
   "execution_count": 4,
   "metadata": {
    "collapsed": false
   },
   "outputs": [],
   "source": [
    "datadir = \"../SdHdata/June 2 micrometer 5 ramp .1 Run 1/\"\n",
    "I = np.loadtxt(datadir + \"curr_50.txt\")\n",
    "B = np.loadtxt(datadir + \"curr_50.txt\")\n",
    "Vxx_X = np.loadtxt(datadir + \"curr_50.txt\")\n",
    "Vxx_Y= np.loadtxt(datadir + \"curr_50.txt\")\n",
    "Vxy_X = np.loadtxt(datadir + \"curr_50.txt\")\n",
    "Vxy_Y = np.loadtxt(datadir + \"curr_50.txt\")"
   ]
  },
  {
   "cell_type": "code",
   "execution_count": 5,
   "metadata": {
    "collapsed": true
   },
   "outputs": [],
   "source": [
    "Vxx = (Vxx_X**2 + Vxx_Y**2)**0.5\n",
    "Vxy = (Vxy_X**2 + Vxy_Y**2)**0.5\n",
    "\n",
    "Rxx = Vxx/I\n",
    "Rxy = Vxy/I"
   ]
  },
  {
   "cell_type": "code",
   "execution_count": null,
   "metadata": {
    "collapsed": true
   },
   "outputs": [],
   "source": []
  }
 ],
 "metadata": {
  "kernelspec": {
   "display_name": "Python 2",
   "language": "python",
   "name": "python2"
  },
  "language_info": {
   "codemirror_mode": {
    "name": "ipython",
    "version": 2
   },
   "file_extension": ".py",
   "mimetype": "text/x-python",
   "name": "python",
   "nbconvert_exporter": "python",
   "pygments_lexer": "ipython2",
   "version": "2.7.10"
  }
 },
 "nbformat": 4,
 "nbformat_minor": 0
}
